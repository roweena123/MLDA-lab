{
  "nbformat": 4,
  "nbformat_minor": 0,
  "metadata": {
    "colab": {
      "provenance": []
    },
    "kernelspec": {
      "name": "python3",
      "display_name": "Python 3"
    },
    "language_info": {
      "name": "python"
    }
  },
  "cells": [
    {
      "cell_type": "code",
      "execution_count": null,
      "metadata": {
        "colab": {
          "base_uri": "https://localhost:8080/"
        },
        "id": "j3bvNWVB330h",
        "outputId": "3e470e36-1d07-48eb-9f4e-2fae058228c9"
      },
      "outputs": [
        {
          "output_type": "stream",
          "name": "stdout",
          "text": [
            "   Patient_ID  Age   BMI  Avg_Exercise_Hours  Cholesterol  Blood_Pressure  \\\n",
            "0           1   25  22.5                   5          180             120   \n",
            "1           2   30  25.0                   3          190             125   \n",
            "2           3   45  30.0                   1          220             140   \n",
            "3           4   50  28.0                   2          200             135   \n",
            "4           5   35  24.0                   4          185             128   \n",
            "\n",
            "   Risk_Score  High_Risk  \n",
            "0          55          0  \n",
            "1          65          0  \n",
            "2          85          1  \n",
            "3          80          1  \n",
            "4          60          0  \n",
            "\n",
            "Decision Tree Accuracy: 1.0\n",
            "Linear Regression MSE: 7.244646397373828\n",
            "Linear Regression R²: 0.9645196380906087\n"
          ]
        }
      ],
      "source": [
        "import pandas as pd\n",
        "from sklearn.model_selection import train_test_split\n",
        "from sklearn.tree import DecisionTreeClassifier\n",
        "from sklearn.linear_model import LinearRegression\n",
        "from sklearn.metrics import accuracy_score, mean_squared_error, r2_score\n",
        "\n",
        "\n",
        "data = pd.read_csv(\"/content/patient_health_dataset.csv\")\n",
        "print(data.head())\n",
        "\n",
        "x = data[[\"Age\", \"BMI\", \"Avg_Exercise_Hours\", \"Cholesterol\", \"Blood_Pressure\"]]\n",
        "y_clf = data[\"High_Risk\"]        # Binary target for Logistic/Decision Tree Classification\n",
        "y_reg = data[\"Risk_Score\"]       # Continuous target for Regression\n",
        "\n",
        "\n",
        "x_train, x_test, y_train_clf, y_test_clf = train_test_split(x, y_clf, test_size=0.2, random_state=2)\n",
        "x_train_reg, x_test_reg, y_train_reg, y_test_reg = train_test_split(x, y_reg, test_size=0.2, random_state=2)\n",
        "\n",
        "\n",
        "\n",
        "dt = DecisionTreeClassifier(criterion=\"entropy\", random_state=42)\n",
        "dt.fit(x_train, y_train_clf)\n",
        "\n",
        "y_dt_pred = dt.predict(x_test)\n",
        "accuracy_dt = accuracy_score(y_test_clf, y_dt_pred)\n",
        "print(\"\\nDecision Tree Accuracy:\", accuracy_dt)\n",
        "\n",
        "\n",
        "lrr = LinearRegression()\n",
        "lrr.fit(x_train_reg, y_train_reg)\n",
        "\n",
        "y_lrr_pred = lrr.predict(x_test_reg)\n",
        "mse = mean_squared_error(y_test_reg, y_lrr_pred)\n",
        "r2 = r2_score(y_test_reg, y_lrr_pred)\n",
        "\n",
        "print(\"Linear Regression MSE:\", mse)\n",
        "print(\"Linear Regression R²:\", r2)\n"
      ]
    }
  ]
}