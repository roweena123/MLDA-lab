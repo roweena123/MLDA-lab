{
  "nbformat": 4,
  "nbformat_minor": 0,
  "metadata": {
    "colab": {
      "provenance": []
    },
    "kernelspec": {
      "name": "python3",
      "display_name": "Python 3"
    },
    "language_info": {
      "name": "python"
    }
  },
  "cells": [
    {
      "cell_type": "code",
      "execution_count": null,
      "metadata": {
        "colab": {
          "base_uri": "https://localhost:8080/"
        },
        "id": "ablmGqfq2Klf",
        "outputId": "7fd69396-085a-47c3-e377-6f33e30bd5d7"
      },
      "outputs": [
        {
          "output_type": "stream",
          "name": "stdout",
          "text": [
            "Decision Tree CV Scores:  [1. 1. 1. 1. 1. 1. 1. 1. 0. 1.]\n",
            "Logistic Regression CV Scores:  [1. 1. 1. 1. 1. 1. 1. 1. 1. 1.]\n",
            "Average CV Score (Decision Tree):  0.9\n",
            "Average CV Score (Logistic Regression):  1.0\n",
            "Number of CV Scores used (Decision Tree):  10\n",
            "Number of CV Scores used (Logistic Regression):  10\n"
          ]
        }
      ],
      "source": [
        "import pandas as pd\n",
        "from sklearn.tree import DecisionTreeClassifier\n",
        "from sklearn.linear_model import LogisticRegression\n",
        "from sklearn.model_selection import KFold, cross_val_score\n",
        "\n",
        "# Load dataset from CSV\n",
        "df = pd.read_csv(\"/content/cross_validation_dataset.csv\")\n",
        "\n",
        "# Features and Target\n",
        "X = df[[\"Hours_Studied\", \"Sleep_Hours\", \"Attendance(%)\"]]\n",
        "y = df[\"Passed\"]\n",
        "\n",
        "# Classifiers\n",
        "clf1 = DecisionTreeClassifier(random_state=42)\n",
        "clf2 = LogisticRegression(max_iter=1000)\n",
        "\n",
        "# K-Fold\n",
        "k_folds = KFold(n_splits=10, shuffle=True, random_state=42)\n",
        "\n",
        "# Cross Validation\n",
        "scores1 = cross_val_score(clf1, X, y, cv=k_folds)\n",
        "scores2 = cross_val_score(clf2, X, y, cv=k_folds)\n",
        "\n",
        "# Print results\n",
        "print(\"Decision Tree CV Scores: \", scores1)\n",
        "print(\"Logistic Regression CV Scores: \", scores2)\n",
        "\n",
        "print(\"Average CV Score (Decision Tree): \", scores1.mean())\n",
        "print(\"Average CV Score (Logistic Regression): \", scores2.mean())\n",
        "\n",
        "print(\"Number of CV Scores used (Decision Tree): \", len(scores1))\n",
        "print(\"Number of CV Scores used (Logistic Regression): \", len(scores2))\n"
      ]
    }
  ]
}