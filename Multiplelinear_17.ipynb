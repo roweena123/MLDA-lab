{
  "nbformat": 4,
  "nbformat_minor": 0,
  "metadata": {
    "colab": {
      "provenance": []
    },
    "kernelspec": {
      "name": "python3",
      "display_name": "Python 3"
    },
    "language_info": {
      "name": "python"
    }
  },
  "cells": [
    {
      "cell_type": "code",
      "execution_count": null,
      "metadata": {
        "colab": {
          "base_uri": "https://localhost:8080/"
        },
        "id": "hzcTER955Kzq",
        "outputId": "2ad5517a-3f9b-40b1-e365-16441b687175"
      },
      "outputs": [
        {
          "output_type": "stream",
          "name": "stdout",
          "text": [
            "Linear Regression MSE: 7.244646397373828\n",
            "Linear Regression R²: 0.9645196380906087\n"
          ]
        }
      ],
      "source": [
        "import pandas as pd\n",
        "from sklearn.model_selection import train_test_split\n",
        "from sklearn.linear_model import LinearRegression\n",
        "from sklearn.metrics import mean_squared_error, r2_score\n",
        "\n",
        "# Load the dataset\n",
        "data = pd.read_csv(\"/content/patient_health_dataset.csv\")\n",
        "\n",
        "# Features and target\n",
        "x = data[[\"Age\", \"BMI\", \"Avg_Exercise_Hours\", \"Cholesterol\", \"Blood_Pressure\"]]\n",
        "y = data[\"Risk_Score\"]\n",
        "\n",
        "# Split dataset into train and test sets\n",
        "x_train, x_test, y_train, y_test = train_test_split(x, y, test_size=0.2, random_state=2)\n",
        "\n",
        "# Create and train Linear Regression model\n",
        "lrr = LinearRegression()\n",
        "lrr.fit(x_train, y_train)\n",
        "\n",
        "# Predict on test set\n",
        "y_pred = lrr.predict(x_test)\n",
        "\n",
        "# Evaluate model\n",
        "mse = mean_squared_error(y_test, y_pred)\n",
        "r2 = r2_score(y_test, y_pred)\n",
        "\n",
        "print(\"Linear Regression MSE:\", mse)\n",
        "print(\"Linear Regression R²:\", r2)\n"
      ]
    }
  ]
}