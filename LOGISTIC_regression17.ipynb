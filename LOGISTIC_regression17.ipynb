{
  "nbformat": 4,
  "nbformat_minor": 0,
  "metadata": {
    "colab": {
      "provenance": []
    },
    "kernelspec": {
      "name": "python3",
      "display_name": "Python 3"
    },
    "language_info": {
      "name": "python"
    }
  },
  "cells": [
    {
      "cell_type": "code",
      "execution_count": null,
      "metadata": {
        "colab": {
          "base_uri": "https://localhost:8080/"
        },
        "id": "CvSEVdDS56K3",
        "outputId": "0cf9545f-2420-4f9d-88c5-de7566010c3c"
      },
      "outputs": [
        {
          "output_type": "stream",
          "name": "stdout",
          "text": [
            "y_test shape: (4,)\n",
            "y_lr_pred shape: (4,)\n",
            "Logistic Regression Accuracy: 1.0\n"
          ]
        }
      ],
      "source": [
        "import pandas as pd\n",
        "from sklearn.model_selection import train_test_split\n",
        "from sklearn.linear_model import LogisticRegression\n",
        "from sklearn.metrics import accuracy_score\n",
        "\n",
        "# Load the dataset\n",
        "data = pd.read_csv(\"/content/patient_health_dataset.csv\")\n",
        "\n",
        "# Features and target\n",
        "x = data[[\"Age\", \"BMI\", \"Avg_Exercise_Hours\", \"Cholesterol\", \"Blood_Pressure\"]]\n",
        "y = data[\"High_Risk\"]  # Binary target for Logistic Regression\n",
        "\n",
        "# Split dataset into train and test sets\n",
        "x_train, x_test, y_train, y_test = train_test_split(x, y, test_size=0.2, random_state=2)\n",
        "\n",
        "# Create and train Logistic Regression model\n",
        "lr = LogisticRegression(max_iter=1000)\n",
        "lr.fit(x_train, y_train)\n",
        "\n",
        "# Predict on test set\n",
        "y_lr_pred = lr.predict(x_test)\n",
        "\n",
        "# Check shapes\n",
        "print(\"y_test shape:\", y_test.shape)\n",
        "print(\"y_lr_pred shape:\", y_lr_pred.shape)\n",
        "\n",
        "# Evaluate model\n",
        "accuracy_lr = accuracy_score(y_test, y_lr_pred)\n",
        "print(\"Logistic Regression Accuracy:\", accuracy_lr)\n"
      ]
    }
  ]
}